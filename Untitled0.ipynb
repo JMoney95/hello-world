{
  "nbformat": 4,
  "nbformat_minor": 0,
  "metadata": {
    "colab": {
      "name": "Untitled0.ipynb",
      "provenance": [],
      "authorship_tag": "ABX9TyMH4DQnIZ0e4sJAcILOfH9V",
      "include_colab_link": true
    },
    "kernelspec": {
      "name": "python3",
      "display_name": "Python 3"
    },
    "language_info": {
      "name": "python"
    }
  },
  "cells": [
    {
      "cell_type": "markdown",
      "metadata": {
        "id": "view-in-github",
        "colab_type": "text"
      },
      "source": [
        "<a href=\"https://colab.research.google.com/github/JMoney95/hello-world/blob/feature/Untitled0.ipynb\" target=\"_parent\"><img src=\"https://colab.research.google.com/assets/colab-badge.svg\" alt=\"Open In Colab\"/></a>"
      ]
    },
    {
      "cell_type": "code",
      "metadata": {
        "colab": {
          "base_uri": "https://localhost:8080/"
        },
        "id": "N-lje8-vYzQ8",
        "outputId": "1dc405a5-54b6-43ea-df7c-f45142092034"
      },
      "source": [
        "count = 0\n",
        "s = 'azcbobobegghakl'\n",
        "for char in s:\n",
        "  if char=='a' or char=='e' or char=='i' or char=='o' or char=='u':\n",
        "    count+=1\n",
        "print(\"Number of vowels: \" + str(count))"
      ],
      "execution_count": 38,
      "outputs": [
        {
          "output_type": "stream",
          "name": "stdout",
          "text": [
            "Number of vowels: 5\n"
          ]
        }
      ]
    }
  ]
}